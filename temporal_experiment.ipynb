{
 "cells": [
  {
   "cell_type": "code",
   "execution_count": 1,
   "metadata": {},
   "outputs": [],
   "source": [
    "import numpy as np\n",
    "import pandas as pd\n",
    "import zarr\n",
    "import xarray as xr\n",
    "import matplotlib.pyplot as plt\n",
    "import lightning.pytorch as pl\n",
    "from omegaconf import OmegaConf\n",
    "import torch\n",
    "import torch.nn as nn\n",
    "import torch.nn.functional as F\n",
    "from torch.optim.lr_scheduler import ReduceLROnPlateau, CosineAnnealingWarmRestarts\n",
    "from lightning.pytorch.callbacks import ModelCheckpoint, Callback\n",
    "import matplotlib.pyplot as plt\n",
    "from matplotlib.lines import Line2D\n",
    "\n",
    "from main import ClimateEmulationDataModule, ClimateEmulationModule\n",
    "from _climate_kaggle_metric import score as kaggle_score\n",
    "\n",
    "from src.models import SimpleCNN\n",
    "from src.utils import convert_predictions_to_kaggle_format\n",
    "\n",
    "from temporal_data_module import TemporalDataModule"
   ]
  },
  {
   "cell_type": "code",
   "execution_count": 2,
   "metadata": {},
   "outputs": [],
   "source": [
    "data_path = 'data/processed_data_cse151b_v2_corrupted_ssp245/processed_data_cse151b_v2_corrupted_ssp245.zarr'\n",
    "data = xr.open_zarr(data_path)"
   ]
  },
  {
   "cell_type": "markdown",
   "metadata": {},
   "source": [
    "### Plotting"
   ]
  },
  {
   "cell_type": "code",
   "execution_count": 41,
   "metadata": {},
   "outputs": [],
   "source": [
    "def plot_batch_losses(train_losses, val_losses):\n",
    "    plt.figure(figsize=(10, 5))\n",
    "\n",
    "    plt.plot(train_losses, label=\"Train Loss (per batch)\", linewidth=0.8, alpha=0.8)\n",
    "    plt.plot(val_losses, label=\"Validation Loss (per batch)\", linewidth=0.8, alpha=0.8)\n",
    "\n",
    "    plt.xlabel(\"Batch (time)\")\n",
    "    plt.ylabel(\"Loss\")\n",
    "    plt.title(\"Training and Validation Loss Over Time\")\n",
    "    plt.legend()\n",
    "    plt.grid(True)\n",
    "    plt.tight_layout()\n",
    "    plt.show()\n",
    "\n",
    "\n",
    "def plot_epoch_losses(train_epoch_losses, val_epoch_losses):\n",
    "    n = len(train_epoch_losses)\n",
    "    epochs = range(1, n + 1)\n",
    "\n",
    "    plt.figure(figsize=(8, 5))\n",
    "    plt.plot(epochs, train_epoch_losses, label='Train Loss (per epoch)', marker='o')\n",
    "    plt.plot(epochs, val_epoch_losses, label='Validation Loss (per epoch)', marker='s')\n",
    "\n",
    "    min_val_loss = min(val_epoch_losses)\n",
    "    min_epoch = val_epoch_losses.index(min_val_loss) + 1\n",
    "\n",
    "    plt.annotate(\n",
    "        f\"Min Val Loss: {min_val_loss:.4f}\",\n",
    "        xy=(min_epoch, min_val_loss),\n",
    "        xytext=(min_epoch - 2, min_val_loss + 0.05),\n",
    "        arrowprops=dict(arrowstyle=\"->\", color='black'),\n",
    "        fontsize=10,\n",
    "        color='black'\n",
    "    )\n",
    "\n",
    "    plt.xlabel(\"Epoch\")\n",
    "    plt.ylabel(\"Loss\")\n",
    "    plt.title(\"Training and Validation Loss per Epoch\")\n",
    "    plt.grid(True)\n",
    "    plt.legend()\n",
    "    plt.xticks(range(0, n + 1, 5))\n",
    "\n",
    "    plt.tight_layout()\n",
    "    plt.show()\n",
    "def plot_top_mse_grid_points(y_pred_np, y_true_np, lat_coords, lon_coords, var_names, top_k=3):\n",
    "    T, C, H, W = y_true_np.shape\n",
    "    squared_error = (y_pred_np - y_true_np) ** 2\n",
    "\n",
    "    top_coords = []\n",
    "\n",
    "    for c in range(C):\n",
    "        var = var_names[int(c)]\n",
    "        var_error = squared_error[:, c, :, :]\n",
    "        flat_error = var_error.reshape(-1)\n",
    "        top_k_idx = np.argpartition(flat_error, -top_k)[-top_k:]\n",
    "        top_k_idx = top_k_idx[np.argsort(flat_error[top_k_idx])[::-1]]\n",
    "\n",
    "        for idx in top_k_idx:\n",
    "            t, h, w = np.unravel_index(idx, (T, H, W))\n",
    "            top_coords.append({\n",
    "                \"var\": var,\n",
    "                \"t\": int(t),\n",
    "                \"h\": int(h),\n",
    "                \"w\": int(w),\n",
    "                \"mse\": var_error[t, h, w].item()\n",
    "            })\n",
    "\n",
    "    plt.figure(figsize=(10, 6))\n",
    "    plt.imshow(np.zeros((H, W)), cmap='Greys', alpha=0.1)\n",
    "\n",
    "    color_map = {var: color for var, color in zip(var_names, ['red', 'blue', 'green', 'orange'])}\n",
    "\n",
    "    for entry in top_coords:\n",
    "        plt.scatter(entry[\"w\"], entry[\"h\"], color=color_map[entry[\"var\"]],\n",
    "                    s=100, edgecolors='black')\n",
    "\n",
    "    legend_elements = [\n",
    "        Line2D([0], [0], marker='o', color='w', label=var,\n",
    "               markerfacecolor=color_map[var], markersize=10, markeredgecolor='black')\n",
    "        for var in var_names\n",
    "    ]\n",
    "    plt.legend(handles=legend_elements)\n",
    "    plt.title(f\"Top {top_k} Highest MSE Grid Locations per Output Variable\")\n",
    "    plt.xlabel(\"Longitude Index (W)\")\n",
    "    plt.ylabel(\"Latitude Index (H)\")\n",
    "    plt.xlim(0, W - 1)\n",
    "    plt.ylim(H - 1, 0)\n",
    "    plt.grid(True)\n",
    "    plt.tight_layout()\n",
    "    plt.show()\n"
   ]
  },
  {
   "cell_type": "markdown",
   "metadata": {},
   "source": [
    "### Model"
   ]
  },
  {
   "cell_type": "code",
   "execution_count": 4,
   "metadata": {},
   "outputs": [],
   "source": [
    "class ConvBlock3D(nn.Module):\n",
    "    def __init__(self, in_channels, out_channels, dropout=0.1):\n",
    "        super().__init__()\n",
    "        self.block = nn.Sequential(\n",
    "            nn.Conv3d(in_channels, out_channels, kernel_size=3, padding=1),\n",
    "            nn.BatchNorm3d(out_channels),\n",
    "            nn.LeakyReLU(0.2, inplace=True),\n",
    "            nn.Dropout3d(dropout),\n",
    "\n",
    "            nn.Conv3d(out_channels, out_channels, kernel_size=3, padding=1),\n",
    "            nn.BatchNorm3d(out_channels),\n",
    "            nn.LeakyReLU(0.2, inplace=True),\n",
    "            nn.Dropout3d(dropout),\n",
    "        )\n",
    "\n",
    "    def forward(self, x):\n",
    "        return self.block(x)\n",
    "\n",
    "class ClimateUNet3D(nn.Module):\n",
    "    def __init__(self, in_channels=5, out_channels=2, base_channels=32, dropout=0.1):\n",
    "        super().__init__()\n",
    "\n",
    "        # Encoder\n",
    "        self.enc1 = ConvBlock3D(in_channels, base_channels, dropout)\n",
    "        self.pool1 = nn.MaxPool3d((1, 2, 2))\n",
    "\n",
    "        self.enc2 = ConvBlock3D(base_channels, base_channels * 2, dropout)\n",
    "        self.pool2 = nn.MaxPool3d((1, 2, 2))\n",
    "\n",
    "        self.enc3 = ConvBlock3D(base_channels * 2, base_channels * 4, dropout)\n",
    "        self.pool3 = nn.MaxPool3d((1, 2, 2))\n",
    "\n",
    "        # Bottleneck\n",
    "        self.bottleneck = ConvBlock3D(base_channels * 4, base_channels * 8, dropout)\n",
    "\n",
    "        # Decoder\n",
    "        self.up3 = nn.ConvTranspose3d(base_channels * 8, base_channels * 4, kernel_size=(1, 2, 2), stride=(1, 2, 2))\n",
    "        self.dec3 = ConvBlock3D(base_channels * 8, base_channels * 4, dropout)\n",
    "\n",
    "        self.up2 = nn.ConvTranspose3d(base_channels * 4, base_channels * 2, kernel_size=(1, 2, 2), stride=(1, 2, 2))\n",
    "        self.dec2 = ConvBlock3D(base_channels * 4, base_channels * 2, dropout)\n",
    "\n",
    "        self.up1 = nn.ConvTranspose3d(base_channels * 2, base_channels, kernel_size=(1, 2, 2), stride=(1, 2, 2))\n",
    "        self.dec1 = ConvBlock3D(base_channels * 2, base_channels, dropout)\n",
    "\n",
    "        # Final output\n",
    "        self.out_conv = nn.Conv3d(base_channels, out_channels, kernel_size=1)\n",
    "\n",
    "    def forward(self, x):\n",
    "        x = x.permute(0, 2, 1, 3, 4)  # [B, C, t, H, W]\n",
    "\n",
    "        # Encoder\n",
    "        e1 = self.enc1(x)\n",
    "        p1 = self.pool1(e1)\n",
    "\n",
    "        e2 = self.enc2(p1)\n",
    "        p2 = self.pool2(e2)\n",
    "\n",
    "        e3 = self.enc3(p2)\n",
    "        p3 = self.pool3(e3)\n",
    "\n",
    "        # Bottleneck\n",
    "        b = self.bottleneck(p3)\n",
    "\n",
    "        # Decoder\n",
    "        u3 = self.up3(b)\n",
    "        u3 = torch.cat([u3, e3], dim=1)\n",
    "        d3 = self.dec3(u3)\n",
    "\n",
    "        u2 = self.up2(d3)\n",
    "        u2 = torch.cat([u2, e2], dim=1)\n",
    "        d2 = self.dec2(u2)\n",
    "\n",
    "        u1 = self.up1(d2)\n",
    "        u1 = torch.cat([u1, e1], dim=1)\n",
    "        d1 = self.dec1(u1)\n",
    "\n",
    "        out = self.out_conv(d1)\n",
    "        out = out[:, :, -1]\n",
    "        \n",
    "        return out\n"
   ]
  },
  {
   "cell_type": "code",
   "execution_count": 5,
   "metadata": {},
   "outputs": [],
   "source": [
    "class TrainingMetrics(Callback):\n",
    "    def __init__(self):\n",
    "        self.train_epoch_losses = []\n",
    "        self.val_epoch_losses = []\n",
    "\n",
    "        self._train_losses = []\n",
    "        self._val_losses = []\n",
    "\n",
    "    def on_train_batch_end(self, trainer, pl_module, outputs, batch, batch_idx):\n",
    "        loss = outputs['loss'] if isinstance(outputs, dict) else outputs\n",
    "        self._train_losses.append(loss.item())\n",
    "\n",
    "    def on_validation_batch_end(self, trainer, pl_module, outputs, batch, batch_idx, dataloader_idx=0):\n",
    "        loss = outputs['loss'] if isinstance(outputs, dict) else outputs\n",
    "        self._val_losses.append(loss.item())\n",
    "\n",
    "    def on_train_epoch_end(self, trainer, pl_module):\n",
    "        if self._train_losses:\n",
    "            avg = sum(self._train_losses) / len(self._train_losses)\n",
    "            self.train_epoch_losses.append(avg)\n",
    "            self._train_losses.clear()\n",
    "\n",
    "    def on_validation_epoch_end(self, trainer, pl_module):\n",
    "        if self._val_losses:\n",
    "            avg = sum(self._val_losses) / len(self._val_losses)\n",
    "            self.val_epoch_losses.append(avg)\n",
    "            self._val_losses.clear()\n"
   ]
  },
  {
   "cell_type": "markdown",
   "metadata": {},
   "source": [
    "### Training"
   ]
  },
  {
   "cell_type": "code",
   "execution_count": 6,
   "metadata": {},
   "outputs": [],
   "source": [
    "config = OmegaConf.create({\n",
    "    \"data\": {\n",
    "        \"path\": data_path,\n",
    "        # \"input_vars\": [\"CO2\", \"SO2\", \"CH4\", \"BC\", \"rsdt\"],\n",
    "        \"input_vars\": [\"CO2\", \"CH4\", \"BC\", \"rsdt\"],\n",
    "        \"output_vars\": [\"tas\", \"pr\"],\n",
    "        \"train_ssps\": [\"ssp126\", \"ssp370\", \"ssp585\"],\n",
    "        \"test_ssp\": \"ssp245\",\n",
    "        \"target_member_id\": 0,\n",
    "        \"batch_size\": 32,\n",
    "        \"num_workers\": 39,\n",
    "        \n",
    "    }\n",
    "})"
   ]
  },
  {
   "cell_type": "code",
   "execution_count": 7,
   "metadata": {},
   "outputs": [],
   "source": [
    "data_module = TemporalDataModule(**config.data)\n",
    "data_module.setup()"
   ]
  },
  {
   "cell_type": "code",
   "execution_count": 8,
   "metadata": {},
   "outputs": [],
   "source": [
    "in_channels = len(config.data['input_vars'])\n",
    "out_channels = len(config.data['output_vars'])\n",
    "\n",
    "model = ClimateUNet3D(base_channels=64, in_channels=in_channels, out_channels=out_channels)\n",
    "\n",
    "lightning_module=ClimateEmulationModule(\n",
    "    model = model,\n",
    "    learning_rate = 5e-4\n",
    ")"
   ]
  },
  {
   "cell_type": "code",
   "execution_count": 9,
   "metadata": {},
   "outputs": [
    {
     "name": "stderr",
     "output_type": "stream",
     "text": [
      "Using default `ModelCheckpoint`. Consider installing `litmodels` package to enable `LitModelCheckpoint` for automatic upload to the Lightning model registry.\n",
      "GPU available: True (cuda), used: True\n",
      "TPU available: False, using: 0 TPU cores\n",
      "HPU available: False, using: 0 HPUs\n"
     ]
    }
   ],
   "source": [
    "logger = TrainingMetrics()\n",
    "\n",
    "trainer = pl.Trainer(\n",
    "    max_epochs=20,\n",
    "    accelerator='auto',\n",
    "    callbacks=[logger]    \n",
    ")"
   ]
  },
  {
   "cell_type": "code",
   "execution_count": 10,
   "metadata": {},
   "outputs": [
    {
     "name": "stderr",
     "output_type": "stream",
     "text": [
      "You are using a CUDA device ('NVIDIA A30 MIG 2g.12gb') that has Tensor Cores. To properly utilize them, you should set `torch.set_float32_matmul_precision('medium' | 'high')` which will trade-off precision for performance. For more details, read https://pytorch.org/docs/stable/generated/torch.set_float32_matmul_precision.html#torch.set_float32_matmul_precision\n",
      "2025-06-11 17:21:39.675654: E external/local_xla/xla/stream_executor/cuda/cuda_dnn.cc:9261] Unable to register cuDNN factory: Attempting to register factory for plugin cuDNN when one has already been registered\n",
      "2025-06-11 17:21:39.675712: E external/local_xla/xla/stream_executor/cuda/cuda_fft.cc:607] Unable to register cuFFT factory: Attempting to register factory for plugin cuFFT when one has already been registered\n",
      "2025-06-11 17:21:39.676985: E external/local_xla/xla/stream_executor/cuda/cuda_blas.cc:1515] Unable to register cuBLAS factory: Attempting to register factory for plugin cuBLAS when one has already been registered\n",
      "2025-06-11 17:21:39.683179: I tensorflow/core/platform/cpu_feature_guard.cc:182] This TensorFlow binary is optimized to use available CPU instructions in performance-critical operations.\n",
      "To enable the following instructions: AVX2 FMA, in other operations, rebuild TensorFlow with the appropriate compiler flags.\n",
      "LOCAL_RANK: 0 - CUDA_VISIBLE_DEVICES: [0]\n",
      "\n",
      "  | Name      | Type          | Params | Mode \n",
      "----------------------------------------------------\n",
      "0 | model     | ClimateUNet3D | 21.7 M | train\n",
      "1 | criterion | MSELoss       | 0      | train\n",
      "----------------------------------------------------\n",
      "21.7 M    Trainable params\n",
      "0         Non-trainable params\n",
      "21.7 M    Total params\n",
      "86.866    Total estimated model params size (MB)\n",
      "79        Modules in train mode\n",
      "0         Modules in eval mode\n"
     ]
    },
    {
     "data": {
      "application/vnd.jupyter.widget-view+json": {
       "model_id": "",
       "version_major": 2,
       "version_minor": 0
      },
      "text/plain": [
       "Sanity Checking: |          | 0/? [00:00<?, ?it/s]"
      ]
     },
     "metadata": {},
     "output_type": "display_data"
    },
    {
     "data": {
      "application/vnd.jupyter.widget-view+json": {
       "model_id": "4eac34adb70a472d8de5891c4f8d5184",
       "version_major": 2,
       "version_minor": 0
      },
      "text/plain": [
       "Training: |          | 0/? [00:00<?, ?it/s]"
      ]
     },
     "metadata": {},
     "output_type": "display_data"
    },
    {
     "data": {
      "application/vnd.jupyter.widget-view+json": {
       "model_id": "",
       "version_major": 2,
       "version_minor": 0
      },
      "text/plain": [
       "Validation: |          | 0/? [00:00<?, ?it/s]"
      ]
     },
     "metadata": {},
     "output_type": "display_data"
    },
    {
     "data": {
      "application/vnd.jupyter.widget-view+json": {
       "model_id": "",
       "version_major": 2,
       "version_minor": 0
      },
      "text/plain": [
       "Validation: |          | 0/? [00:00<?, ?it/s]"
      ]
     },
     "metadata": {},
     "output_type": "display_data"
    },
    {
     "data": {
      "application/vnd.jupyter.widget-view+json": {
       "model_id": "",
       "version_major": 2,
       "version_minor": 0
      },
      "text/plain": [
       "Validation: |          | 0/? [00:00<?, ?it/s]"
      ]
     },
     "metadata": {},
     "output_type": "display_data"
    },
    {
     "data": {
      "application/vnd.jupyter.widget-view+json": {
       "model_id": "",
       "version_major": 2,
       "version_minor": 0
      },
      "text/plain": [
       "Validation: |          | 0/? [00:00<?, ?it/s]"
      ]
     },
     "metadata": {},
     "output_type": "display_data"
    },
    {
     "data": {
      "application/vnd.jupyter.widget-view+json": {
       "model_id": "",
       "version_major": 2,
       "version_minor": 0
      },
      "text/plain": [
       "Validation: |          | 0/? [00:00<?, ?it/s]"
      ]
     },
     "metadata": {},
     "output_type": "display_data"
    },
    {
     "data": {
      "application/vnd.jupyter.widget-view+json": {
       "model_id": "",
       "version_major": 2,
       "version_minor": 0
      },
      "text/plain": [
       "Validation: |          | 0/? [00:00<?, ?it/s]"
      ]
     },
     "metadata": {},
     "output_type": "display_data"
    },
    {
     "data": {
      "application/vnd.jupyter.widget-view+json": {
       "model_id": "",
       "version_major": 2,
       "version_minor": 0
      },
      "text/plain": [
       "Validation: |          | 0/? [00:00<?, ?it/s]"
      ]
     },
     "metadata": {},
     "output_type": "display_data"
    },
    {
     "data": {
      "application/vnd.jupyter.widget-view+json": {
       "model_id": "",
       "version_major": 2,
       "version_minor": 0
      },
      "text/plain": [
       "Validation: |          | 0/? [00:00<?, ?it/s]"
      ]
     },
     "metadata": {},
     "output_type": "display_data"
    },
    {
     "data": {
      "application/vnd.jupyter.widget-view+json": {
       "model_id": "",
       "version_major": 2,
       "version_minor": 0
      },
      "text/plain": [
       "Validation: |          | 0/? [00:00<?, ?it/s]"
      ]
     },
     "metadata": {},
     "output_type": "display_data"
    },
    {
     "data": {
      "application/vnd.jupyter.widget-view+json": {
       "model_id": "",
       "version_major": 2,
       "version_minor": 0
      },
      "text/plain": [
       "Validation: |          | 0/? [00:00<?, ?it/s]"
      ]
     },
     "metadata": {},
     "output_type": "display_data"
    },
    {
     "data": {
      "application/vnd.jupyter.widget-view+json": {
       "model_id": "",
       "version_major": 2,
       "version_minor": 0
      },
      "text/plain": [
       "Validation: |          | 0/? [00:00<?, ?it/s]"
      ]
     },
     "metadata": {},
     "output_type": "display_data"
    },
    {
     "data": {
      "application/vnd.jupyter.widget-view+json": {
       "model_id": "",
       "version_major": 2,
       "version_minor": 0
      },
      "text/plain": [
       "Validation: |          | 0/? [00:00<?, ?it/s]"
      ]
     },
     "metadata": {},
     "output_type": "display_data"
    },
    {
     "data": {
      "application/vnd.jupyter.widget-view+json": {
       "model_id": "",
       "version_major": 2,
       "version_minor": 0
      },
      "text/plain": [
       "Validation: |          | 0/? [00:00<?, ?it/s]"
      ]
     },
     "metadata": {},
     "output_type": "display_data"
    },
    {
     "data": {
      "application/vnd.jupyter.widget-view+json": {
       "model_id": "",
       "version_major": 2,
       "version_minor": 0
      },
      "text/plain": [
       "Validation: |          | 0/? [00:00<?, ?it/s]"
      ]
     },
     "metadata": {},
     "output_type": "display_data"
    },
    {
     "data": {
      "application/vnd.jupyter.widget-view+json": {
       "model_id": "",
       "version_major": 2,
       "version_minor": 0
      },
      "text/plain": [
       "Validation: |          | 0/? [00:00<?, ?it/s]"
      ]
     },
     "metadata": {},
     "output_type": "display_data"
    },
    {
     "data": {
      "application/vnd.jupyter.widget-view+json": {
       "model_id": "",
       "version_major": 2,
       "version_minor": 0
      },
      "text/plain": [
       "Validation: |          | 0/? [00:00<?, ?it/s]"
      ]
     },
     "metadata": {},
     "output_type": "display_data"
    },
    {
     "data": {
      "application/vnd.jupyter.widget-view+json": {
       "model_id": "",
       "version_major": 2,
       "version_minor": 0
      },
      "text/plain": [
       "Validation: |          | 0/? [00:00<?, ?it/s]"
      ]
     },
     "metadata": {},
     "output_type": "display_data"
    },
    {
     "data": {
      "application/vnd.jupyter.widget-view+json": {
       "model_id": "",
       "version_major": 2,
       "version_minor": 0
      },
      "text/plain": [
       "Validation: |          | 0/? [00:00<?, ?it/s]"
      ]
     },
     "metadata": {},
     "output_type": "display_data"
    },
    {
     "data": {
      "application/vnd.jupyter.widget-view+json": {
       "model_id": "",
       "version_major": 2,
       "version_minor": 0
      },
      "text/plain": [
       "Validation: |          | 0/? [00:00<?, ?it/s]"
      ]
     },
     "metadata": {},
     "output_type": "display_data"
    },
    {
     "data": {
      "application/vnd.jupyter.widget-view+json": {
       "model_id": "",
       "version_major": 2,
       "version_minor": 0
      },
      "text/plain": [
       "Validation: |          | 0/? [00:00<?, ?it/s]"
      ]
     },
     "metadata": {},
     "output_type": "display_data"
    },
    {
     "name": "stderr",
     "output_type": "stream",
     "text": [
      "`Trainer.fit` stopped: `max_epochs=20` reached.\n"
     ]
    }
   ],
   "source": [
    "trainer.fit(lightning_module, data_module)"
   ]
  },
  {
   "cell_type": "code",
   "execution_count": 39,
   "metadata": {},
   "outputs": [],
   "source": []
  },
  {
   "cell_type": "code",
   "execution_count": 40,
   "metadata": {},
   "outputs": [
    {
     "data": {
      "image/png": "[encoded data removed]",
      "text/plain": [
       "<Figure size 800x500 with 1 Axes>"
      ]
     },
     "metadata": {},
     "output_type": "display_data"
    }
   ],
   "source": [
    "train_losses = logger.train_epoch_losses\n",
    "val_losses = logger.val_epoch_losses\n",
    "\n",
    "plot_epoch_losses(train_losses, val_losses[1:])"
   ]
  },
  {
   "cell_type": "code",
   "execution_count": 69,
   "metadata": {},
   "outputs": [
    {
     "name": "stderr",
     "output_type": "stream",
     "text": [
      "LOCAL_RANK: 0 - CUDA_VISIBLE_DEVICES: [0]\n"
     ]
    },
    {
     "data": {
      "application/vnd.jupyter.widget-view+json": {
       "model_id": "ec687c04ebdc4e24a0f2e05512364434",
       "version_major": 2,
       "version_minor": 0
      },
      "text/plain": [
       "Testing: |          | 0/? [00:00<?, ?it/s]"
      ]
     },
     "metadata": {},
     "output_type": "display_data"
    },
    {
     "name": "stdout",
     "output_type": "stream",
     "text": [
      "────────────────────────────────────────────────────────────────────────────────────────────────────────────────────────\n",
      "       Test metric             DataLoader 0\n",
      "────────────────────────────────────────────────────────────────────────────────────────────────────────────────────────\n",
      "test/pr/avg/monthly_rmse     4.189457893371582\n",
      " test/pr/time_mean_rmse       3.7205650806427\n",
      " test/pr/time_stddev_mae    1.3585211038589478\n",
      "test/tas/avg/monthly_rmse   290.77520751953125\n",
      " test/tas/time_mean_rmse    290.73492431640625\n",
      "test/tas/time_stddev_mae     3.461483955383301\n",
      "────────────────────────────────────────────────────────────────────────────────────────────────────────────────────────\n"
     ]
    },
    {
     "data": {
      "text/plain": [
       "[{'test/tas/avg/monthly_rmse': 290.77520751953125,\n",
       "  'test/tas/time_mean_rmse': 290.73492431640625,\n",
       "  'test/tas/time_stddev_mae': 3.461483955383301,\n",
       "  'test/pr/avg/monthly_rmse': 4.189457893371582,\n",
       "  'test/pr/time_mean_rmse': 3.7205650806427,\n",
       "  'test/pr/time_stddev_mae': 1.3585211038589478}]"
      ]
     },
     "execution_count": 69,
     "metadata": {},
     "output_type": "execute_result"
    }
   ],
   "source": [
    "trainer.test(lightning_module, data_module)"
   ]
  },
  {
   "cell_type": "markdown",
   "metadata": {},
   "source": [
    "### Produce Submission"
   ]
  },
  {
   "cell_type": "code",
   "execution_count": 70,
   "metadata": {},
   "outputs": [],
   "source": [
    "model.eval()\n",
    "all_preds = []\n",
    "\n",
    "device = torch.device(\"cuda\" if torch.cuda.is_available() else \"cpu\")\n",
    "model = model.to(device)\n",
    "\n",
    "for x, y_true in data_module.test_dataloader():\n",
    "    x = x.to(device)\n",
    "    with torch.no_grad():\n",
    "        y_pred = model(x.to(device)).squeeze(0)\n",
    "    all_preds.append(y_pred.cpu().numpy())\n",
    "\n",
    "y_pred_np = np.concatenate(all_preds, axis=0)\n",
    "y_pred_output = data_module.normalizer.inverse_transform_output(y_pred_np)\n",
    "\n",
    "lat_coords, lon_coords = data_module.get_coords()\n",
    "time_coords = np.arange(y_pred_np.shape[0])\n",
    "var_names = config.data['output_vars']"
   ]
  },
  {
   "cell_type": "code",
   "execution_count": 71,
   "metadata": {},
   "outputs": [],
   "source": [
    "submission_df = convert_predictions_to_kaggle_format(\n",
    "    y_pred_output, time_coords, lat_coords, lon_coords, var_names\n",
    ")"
   ]
  },
  {
   "cell_type": "code",
   "execution_count": 72,
   "metadata": {},
   "outputs": [
    {
     "name": "stdout",
     "output_type": "stream",
     "text": [
      "(2488320, 2)\n"
     ]
    }
   ],
   "source": [
    "print(submission_df.shape)"
   ]
  },
  {
   "cell_type": "code",
   "execution_count": 73,
   "metadata": {},
   "outputs": [],
   "source": [
    "submission_df.to_csv(\"submission.csv\", index=False)"
   ]
  },
  {
   "cell_type": "code",
   "execution_count": null,
   "metadata": {},
   "outputs": [],
   "source": []
  }
 ],
 "metadata": {
  "kernelspec": {
   "display_name": "Python 3 (ipykernel)",
   "language": "python",
   "name": "python3"
  },
  "language_info": {
   "codemirror_mode": {
    "name": "ipython",
    "version": 3
   },
   "file_extension": ".py",
   "mimetype": "text/x-python",
   "name": "python",
   "nbconvert_exporter": "python",
   "pygments_lexer": "ipython3",
   "version": "3.11.9"
  }
 },
 "nbformat": 4,
 "nbformat_minor": 4
}
